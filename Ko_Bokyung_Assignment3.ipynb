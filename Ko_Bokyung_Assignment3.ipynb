{
  "nbformat": 4,
  "nbformat_minor": 0,
  "metadata": {
    "colab": {
      "provenance": [],
      "include_colab_link": true
    },
    "kernelspec": {
      "name": "python3",
      "display_name": "Python 3"
    },
    "language_info": {
      "name": "python"
    }
  },
  "cells": [
    {
      "cell_type": "markdown",
      "metadata": {
        "id": "view-in-github",
        "colab_type": "text"
      },
      "source": [
        "<a href=\"https://colab.research.google.com/github/Miako1202/Miako1202-CSC4850-MachineLearning-AssignmentThree/blob/main/Ko_Bokyung_Assignment3.ipynb\" target=\"_parent\"><img src=\"https://colab.research.google.com/assets/colab-badge.svg\" alt=\"Open In Colab\"/></a>"
      ]
    },
    {
      "cell_type": "markdown",
      "source": [
        "# CSC 4850 / 6850 / DSCI 4850 - Assigment 3 - (400/450 points)\n",
        "\n",
        "**Total points (400 undergraduate / 450 graduate)**\n",
        "\n",
        "**Student Name: Bokyung Ko**\n",
        "\n",
        "**Undergraduate **\n",
        "\n",
        "## Instructions:\n",
        "\n",
        "You are to make a copy of this notebook on your own Google Drive (if you don't have one, get one, it is free), and use the exact format provided. Any code needs to go in the code cells, and any 'text' answer/description needs to go in the proper text cell. We will not be looking for answers randomly placed so please read the instructions.\n",
        "\n",
        "You are to use only the libraries provided in the next code cell. Any additional library is NOT allowed and will cause you to lose all the points that use said library's functions/functionality. You can use any functions given in the class code examples, but be very very careful of lifting anything \n",
        "'as-is' from the internet as it will be considerered plagiarism. \n",
        "\n",
        "**IMPORTANT: Make sure you use 1234 (for the folds use: 3456, 5678, 7890) for your randomseed/random states. Failure to do so will make your answers not comparable to the answer key and you will get a zero on the whole assignment.**\n",
        "\n",
        "## Submission format:\n",
        "\n",
        "The submission for Assignment two will have two components:\n",
        "\n",
        "1) You are to create a PDF from the PRINT out of this notebook with all cells executed sequentially. It is the student's responsibility to be able to do this and no excuses will be accepted, no legible PDF = zero grade. So practice and test before submission time. This PDF should be named LastName_FirstName-Assignment3.PDF\n",
        "\n",
        "2) The student should create a GitHub repository for this assignment and properly title the repository Class_CODE-ClassName-AssignmentTwo. This repository should have a readme file and the Google Colab notebook in it. Note that colab can save a copy directly to GitHub so make sure you test this. Downloading the notebook file and uploading it directly will result in 200 points deduction. The link to your GitHub repository should be included as text/message in the iCollege submission drop, failure to include this link will result in a 100 point penalty. \n",
        "\n",
        "## Extra Credit for all:\n",
        "\n",
        "Any student can get 20 extra credit points by doing one simple thing:\n",
        "\n",
        "1) Make sure your repo for this assignment has a nice README file with figures and results. \n"
      ],
      "metadata": {
        "id": "Uc3L9tKWVV4g"
      }
    },
    {
      "cell_type": "code",
      "execution_count": null,
      "metadata": {
        "id": "PjGD5VGFVS-s"
      },
      "outputs": [],
      "source": [
        "############## These are the only imports allowed to solve this homework, so make sure you do not add anything else down below\n",
        "\n",
        "%matplotlib inline\n",
        "\n",
        "import numpy as np\n",
        "import pandas as pd\n",
        "import sklearn \n",
        "import numpy as np\n",
        "import matplotlib.pyplot as plt\n",
        "import seaborn as sns; sns.set()\n",
        "\n",
        "\n"
      ]
    },
    {
      "cell_type": "markdown",
      "source": [
        "Using the Chess dataset from Kaggle: https://www.kaggle.com/datasets/datasnaek/chess"
      ],
      "metadata": {
        "id": "89_ilQegV-MS"
      }
    },
    {
      "cell_type": "code",
      "source": [
        "### Manually download it and upload to this istance data sample space\n",
        "### Note DO NOT change these operations or all your answers will be incorrect\n",
        "\n",
        "### Let's do some transformations and extra features on this.\n",
        "df=pd.read_csv('games.csv', encoding='utf-8')\n",
        "\n",
        "# Difference between white rating and black rating - independent variable\n",
        "df['rating_difference']=df['white_rating']-df['black_rating']\n",
        "\n",
        "# White wins flag (1=win vs. 0=not-win) - dependent (target) variable\n",
        "df['white_win']=df['winner'].apply(lambda x: 1 if x=='white' else 0)\n"
      ],
      "metadata": {
        "id": "J_sakm7HV90A"
      },
      "execution_count": null,
      "outputs": []
    },
    {
      "cell_type": "markdown",
      "source": [
        "For this assignment we will be using two columns as features only, and the white_win colum as the label."
      ],
      "metadata": {
        "id": "zTyRQCajE5Go"
      }
    },
    {
      "cell_type": "code",
      "source": [
        "X=df[['rating_difference', 'turns']]\n",
        "y=df['white_win'].values"
      ],
      "metadata": {
        "id": "mv3OV1HJE4VZ"
      },
      "execution_count": null,
      "outputs": []
    },
    {
      "cell_type": "markdown",
      "source": [
        "# Question 1 (10 points)\n",
        "\n",
        "Use sklearn to split this the data into testing and training data. "
      ],
      "metadata": {
        "id": "0TLvYCXVbHN9"
      }
    },
    {
      "cell_type": "code",
      "source": [
        "##### Code block for Question 1\n",
        "from sklearn.model_selection import train_test_split\n",
        "\n",
        "X_train, X_test, y_train, y_test = train_test_split(X, y, test_size=0.2, random_state=1234)\n",
        "\n"
      ],
      "metadata": {
        "id": "ZIxSrPxmbGYZ"
      },
      "execution_count": null,
      "outputs": []
    },
    {
      "cell_type": "markdown",
      "source": [
        "# Question 2 (30 points)\n",
        "\n",
        "Manually (DO NOT use kFold or any built-in functionality) create **THREE** different folds for the training data. "
      ],
      "metadata": {
        "id": "Hl5dZFu7lDg5"
      }
    },
    {
      "cell_type": "code",
      "source": [
        "fold1 = train_test_split(X, y, test_size=0.2, random_state=3456)\n",
        "fold2 = train_test_split(X, y, test_size=0.2, random_state=4567)\n",
        "fold3 = train_test_split(X, y, test_size=0.2, random_state=7890)\n"
      ],
      "metadata": {
        "id": "hTyVZaTDB2Nf"
      },
      "execution_count": null,
      "outputs": []
    },
    {
      "cell_type": "markdown",
      "source": [
        "# Question 3 (30 points)\n",
        "\n",
        "Create code to build three different SVM models with the following kernels:\n",
        "\n",
        "1.   linear\n",
        "2.   poly\n",
        "3.   rbf"
      ],
      "metadata": {
        "id": "V6grDh8FlVtS"
      }
    },
    {
      "cell_type": "code",
      "source": [
        "from sklearn import svm\n",
        "\n",
        "# Linear kernel\n",
        "svm_linear = svm.SVC(kernel='linear')\n",
        "\n",
        "# Polynomial kernel with degree 3\n",
        "svm_poly = svm.SVC(kernel='poly', degree=3)\n",
        "\n",
        "# RBF kernel with gamma=0.1\n",
        "svm_rbf = svm.SVC(kernel='rbf', gamma=0.1)\n"
      ],
      "metadata": {
        "id": "c4vEycc17fi0"
      },
      "execution_count": null,
      "outputs": []
    },
    {
      "cell_type": "markdown",
      "source": [
        "# Question 4 (70 points)\n",
        "\n",
        "FOLD 1 - run the first three models with first fold data you created. Output the classification report AND plot its learning curve.\n",
        "\n",
        "\n",
        "In the text cell, following the code block, descibe what findings can be infered from the classification report and learning curve. Mention at least 3 non-trivial observations between the different kernels. "
      ],
      "metadata": {
        "id": "UDBERCfzkTIK"
      }
    },
    {
      "cell_type": "code",
      "source": [
        "##### Code block for Question 4\n",
        "\n",
        "from sklearn import metrics \n",
        "from sklearn.preprocessing import StandardScaler\n",
        "from sklearn.model_selection import learning_curve\n",
        "\n",
        "def run_modes(fold, svm_linear, svm_poly, svm_rbf):\n",
        "    #Linear\n",
        "    scaler = StandardScaler()\n",
        "    scaler.fit(fold['X_train'])\n",
        "    X_train_scaled = scaler.transform(fold['X_train'])\n",
        "    X_test_scaled = scaler.transform(fold['X_test'])\n",
        "\n",
        "    svm_linear.fit(X_train_scaled, fold['y_train'])\n",
        "    y_pred_linear = svm_linear.predict(X_test_scaled)\n",
        "    print(\"Classification Report for Linear kernel:\")\n",
        "    print(metrics.classification_report(fold['y_test'], y_pred_linear))\n",
        "\n",
        "    #Polynomial\n",
        "    scaler.fit(fold['X_train'])\n",
        "    X_train_scaled = scaler.transform(fold['X_train'])\n",
        "    X_test_scaled = scaler.transform(fold['X_test'])\n",
        "\n",
        "    svm_poly.fit(X_train_scaled, fold['y_train'])\n",
        "    y_pred_poly = svm_poly.predict(X_test_scaled)\n",
        "    print(\"Classification Report for Polynomial kernel:\")\n",
        "    print(metrics.classification_report(fold['y_test'], y_pred_poly))\n",
        "\n",
        "    #RBF\n",
        "    scaler.fit(fold['X_train'])\n",
        "    X_train_scaled = scaler.transform(fold['X_train'])\n",
        "    X_test_scaled = scaler.transform(fold['X_test'])\n",
        "\n",
        "    svm_rbf.fit(X_train_scaled, fold['y_train'])\n",
        "    y_pred_rbf = svm_rbf.predict(X_test_scaled)\n",
        "    print(\"Classification Report for RBF kernel:\")\n",
        "    print(metrics.classification_report(fold['y_test'], y_pred_rbf))\n",
        "\n",
        "    # Learning Curve\n",
        "    train_sizes, train_scores, test_scores = learning_curve(\n",
        "        svm_linear, X_train_scaled, fold['y_train'], cv=5)\n",
        "    \n",
        "\n",
        "    plt.figure(figsize=(10, 6))\n",
        "    plt.plot(train_sizes, np.mean(train_scores, axis=1), label='Training Score')\n",
        "    plt.plot(train_sizes, np.mean(test_scores, axis=1), label='Cross-Validation Score')\n",
        "    plt.title('Learning Curve')\n",
        "    plt.xlabel('Training Set Size')\n",
        "    plt.ylabel('Accuracy Score')\n",
        "    plt.legend()\n",
        "    plt.show()\n",
        "\n",
        "# Run the models with the first fold data\n",
        "fold_1 = {'X_train': fold1[0], 'X_test': fold1[1], 'y_train': fold1[2], 'y_test': fold1[3]}\n",
        "\n",
        "svm_linear_1 = svm.SVC(kernel='linear', random_state=1234)\n",
        "svm_poly_1 = svm.SVC(kernel='poly', degree=3, random_state=1234)\n",
        "svm_rbf_1 = svm.SVC(kernel='rbf', gamma=0.1, random_state=1234)\n",
        "\n",
        "run_modes(fold_1, svm_linear_1, svm_poly_1, svm_rbf_1)\n"
      ],
      "metadata": {
        "id": "OlQED2C0kSQ-",
        "colab": {
          "base_uri": "https://localhost:8080/",
          "height": 946
        },
        "outputId": "ea799397-df42-4f36-e745-756cb1ca5fba"
      },
      "execution_count": null,
      "outputs": [
        {
          "output_type": "stream",
          "name": "stdout",
          "text": [
            "Classification Report for Linear kernel:\n",
            "              precision    recall  f1-score   support\n",
            "\n",
            "           0       0.63      0.68      0.65      1990\n",
            "           1       0.66      0.61      0.64      2022\n",
            "\n",
            "    accuracy                           0.65      4012\n",
            "   macro avg       0.65      0.65      0.65      4012\n",
            "weighted avg       0.65      0.65      0.65      4012\n",
            "\n",
            "Classification Report for Polynomial kernel:\n",
            "              precision    recall  f1-score   support\n",
            "\n",
            "           0       0.61      0.76      0.67      1990\n",
            "           1       0.68      0.51      0.59      2022\n",
            "\n",
            "    accuracy                           0.63      4012\n",
            "   macro avg       0.64      0.64      0.63      4012\n",
            "weighted avg       0.64      0.63      0.63      4012\n",
            "\n",
            "Classification Report for RBF kernel:\n",
            "              precision    recall  f1-score   support\n",
            "\n",
            "           0       0.63      0.68      0.66      1990\n",
            "           1       0.66      0.61      0.64      2022\n",
            "\n",
            "    accuracy                           0.65      4012\n",
            "   macro avg       0.65      0.65      0.65      4012\n",
            "weighted avg       0.65      0.65      0.65      4012\n",
            "\n"
          ]
        },
        {
          "output_type": "display_data",
          "data": {
            "text/plain": [
              "<Figure size 720x432 with 1 Axes>"
            ],
            "image/png": "[encoded data removed]"
          },
          "metadata": {}
        }
      ]
    },
    {
      "cell_type": "markdown",
      "source": [
        "1. From the classification report:\n",
        "\n",
        "  - Linear kernel: The linear kernel has the lowest precision and recall for class 1 (the positive class), indicating that it misclassifies more positive instances as negative than the other two kernels.\n",
        "\n",
        "  - Polynomial kernel: The polynomial kernel has the lowest recall for class 1, indicating that it has difficulty identifying positive instances.\n",
        "\n",
        "  - RBF kernel: The RBF kernel has the highest F1-score for both classes, indicating that it achieves a good balance between precision and recall for both classes.\n",
        "\n",
        "2. From the learning curves:\n",
        "\n",
        "  - Linear kernel: The training and validation scores are similar and plateau early, indicating that the model is not overfitting or underfitting the data.\n",
        "\n",
        "  - Polynomial kernel: The training and validation scores are lower than the other two kernels, indicating that the model is underfitting the data. Additionally, there is a large gap between the training and validation scores, indicating that the model is not generalizing well to new data.\n",
        "\n",
        "  - RBF kernel: The training and validation scores are high and converge to a similar value, indicating that the model is not overfitting or underfitting the data. However, there is a slight decrease in the validation score as the training size increases, indicating that the model may benefit from more data."
      ],
      "metadata": {
        "id": "axlGZ10EkumL"
      }
    },
    {
      "cell_type": "markdown",
      "source": [
        "# Question 5 (70 points)\n",
        "\n",
        "FOLD 2 - run the first three models with first fold data you created. Output the classification report AND plot its learning curve.\n",
        "\n",
        "\n",
        "In the text cell, following the code block, descibe what findings can be infered from the classification report and learning curve. Mention at least 3 non-trivial observations between the different kernels. "
      ],
      "metadata": {
        "id": "lGTwCVhZHBVn"
      }
    },
    {
      "cell_type": "code",
      "source": [
        "fold_2 = {'X_train': fold2[0], 'X_test': fold2[1], 'y_train': fold2[2], 'y_test': fold2[3]}\n",
        "\n",
        "svm_linear_2 = svm.SVC(kernel='linear', random_state=1234)\n",
        "svm_poly_2 = svm.SVC(kernel='poly', degree=3, random_state=1234)\n",
        "svm_rbf_2 = svm.SVC(kernel='rbf', gamma=0.1, random_state=1234)\n",
        "\n",
        "run_modes(fold_2, svm_linear_2, svm_poly_2, svm_rbf_2)"
      ],
      "metadata": {
        "id": "K5I5I-vFHBV6",
        "colab": {
          "base_uri": "https://localhost:8080/",
          "height": 946
        },
        "outputId": "3772eaff-35be-466e-bed7-5bfe2bcc5c2d"
      },
      "execution_count": null,
      "outputs": [
        {
          "output_type": "stream",
          "name": "stdout",
          "text": [
            "Classification Report for Linear kernel:\n",
            "              precision    recall  f1-score   support\n",
            "\n",
            "           0       0.64      0.66      0.65      2001\n",
            "           1       0.65      0.62      0.64      2011\n",
            "\n",
            "    accuracy                           0.64      4012\n",
            "   macro avg       0.64      0.64      0.64      4012\n",
            "weighted avg       0.64      0.64      0.64      4012\n",
            "\n",
            "Classification Report for Polynomial kernel:\n",
            "              precision    recall  f1-score   support\n",
            "\n",
            "           0       0.66      0.55      0.60      2001\n",
            "           1       0.62      0.72      0.67      2011\n",
            "\n",
            "    accuracy                           0.64      4012\n",
            "   macro avg       0.64      0.64      0.63      4012\n",
            "weighted avg       0.64      0.64      0.63      4012\n",
            "\n",
            "Classification Report for RBF kernel:\n",
            "              precision    recall  f1-score   support\n",
            "\n",
            "           0       0.63      0.66      0.65      2001\n",
            "           1       0.65      0.62      0.63      2011\n",
            "\n",
            "    accuracy                           0.64      4012\n",
            "   macro avg       0.64      0.64      0.64      4012\n",
            "weighted avg       0.64      0.64      0.64      4012\n",
            "\n"
          ]
        },
        {
          "output_type": "display_data",
          "data": {
            "text/plain": [
              "<Figure size 720x432 with 1 Axes>"
            ],
            "image/png": "[encoded data removed]"
          },
          "metadata": {}
        }
      ]
    },
    {
      "cell_type": "markdown",
      "source": [
        "Based on the classification reports, we can see that the linear kernel has a slightly lower accuracy and f1-score compared to the polynomial and RBF kernels, which have similar performance. This suggests that the linear kernel may not be the best choice for this dataset.\n",
        "\n",
        "Additionally, we can see that for the polynomial kernel, precision for class 1 is lower than for class 0, while for the RBF kernel, precision is slightly higher for class 1. This suggests that the performance of the kernels may vary depending on the class distribution and balance of the dataset.\n",
        "\n",
        "Looking at the learning curves, we can see that all three kernels show a pattern of high variance, with the training and validation scores having a large gap between them. This suggests that the models may be overfitting to the training data and would benefit from regularization or other techniques to reduce variance.\n",
        "\n",
        "And the polynomial kernel shows a faster decrease in validation score than the other two kernels, which may indicate that it is more prone to overfitting. The RBF kernel shows the slowest convergence to the optimal score, which may indicate that it requires more data or more tuning to perform well on this dataset."
      ],
      "metadata": {
        "id": "5AGzL3oNHBV7"
      }
    },
    {
      "cell_type": "markdown",
      "source": [
        "# Question 6 (70 points)\n",
        "\n",
        "FOLD 3 - run the first three models with first fold data you created. Output the classification report AND plot its learning curve.\n",
        "\n",
        "\n",
        "In the text cell, following the code block, descibe what findings can be infered from the classification report and learning curve. Mention at least 3 non-trivial observations between the different kernels. "
      ],
      "metadata": {
        "id": "bB9uezyvHFc8"
      }
    },
    {
      "cell_type": "code",
      "source": [
        "##### Code block for Question 6\n",
        "fold_3 = {'X_train': fold3[0], 'X_test': fold3[1], 'y_train': fold3[2], 'y_test': fold3[3]}\n",
        "\n",
        "svm_linear_3 = svm.SVC(kernel='linear', random_state=1234)\n",
        "svm_poly_3 = svm.SVC(kernel='poly', degree=3, random_state=1234)\n",
        "svm_rbf_3 = svm.SVC(kernel='rbf', gamma=0.1, random_state=1234)\n",
        "\n",
        "run_modes(fold_3, svm_linear_3, svm_poly_3, svm_rbf_3)"
      ],
      "metadata": {
        "id": "952LKGJCHFc9",
        "colab": {
          "base_uri": "https://localhost:8080/",
          "height": 946
        },
        "outputId": "ff5b1a90-a3ba-414e-f8a8-fbccd3bbf496"
      },
      "execution_count": null,
      "outputs": [
        {
          "output_type": "stream",
          "name": "stdout",
          "text": [
            "Classification Report for Linear kernel:\n",
            "              precision    recall  f1-score   support\n",
            "\n",
            "           0       0.65      0.67      0.66      2042\n",
            "           1       0.64      0.62      0.63      1970\n",
            "\n",
            "    accuracy                           0.64      4012\n",
            "   macro avg       0.64      0.64      0.64      4012\n",
            "weighted avg       0.64      0.64      0.64      4012\n",
            "\n",
            "Classification Report for Polynomial kernel:\n",
            "              precision    recall  f1-score   support\n",
            "\n",
            "           0       0.74      0.42      0.54      2042\n",
            "           1       0.59      0.85      0.69      1970\n",
            "\n",
            "    accuracy                           0.63      4012\n",
            "   macro avg       0.66      0.64      0.62      4012\n",
            "weighted avg       0.67      0.63      0.61      4012\n",
            "\n",
            "Classification Report for RBF kernel:\n",
            "              precision    recall  f1-score   support\n",
            "\n",
            "           0       0.65      0.66      0.65      2042\n",
            "           1       0.64      0.63      0.64      1970\n",
            "\n",
            "    accuracy                           0.65      4012\n",
            "   macro avg       0.65      0.65      0.65      4012\n",
            "weighted avg       0.65      0.65      0.65      4012\n",
            "\n"
          ]
        },
        {
          "output_type": "display_data",
          "data": {
            "text/plain": [
              "<Figure size 720x432 with 1 Axes>"
            ],
            "image/png": "[encoded data removed]"
          },
          "metadata": {}
        }
      ]
    },
    {
      "cell_type": "markdown",
      "source": [
        "Textual answer to question 6 goes here."
      ],
      "metadata": {
        "id": "4hIeICojHFc9"
      }
    },
    {
      "cell_type": "markdown",
      "source": [
        "# Question 7 (30 points)\n",
        "\n",
        "From the three folds pick the best model for each different type of kernel.\n",
        "\n",
        "Present a table with the following columns from their metrics and model. Remember to make classifications on the test set at this stage.\n",
        "\n",
        "1. Model Name (Kernel)\n",
        "2. Accuracy\n",
        "3. Precision\n",
        "4. Recall\n",
        "5. F1-score\n",
        "6. RMSE\n"
      ],
      "metadata": {
        "id": "D5FbmbFolUE-"
      }
    },
    {
      "cell_type": "code",
      "source": [
        "from sklearn.metrics import f1_score, make_scorer\n",
        "from sklearn.model_selection import GridSearchCV\n",
        "\n",
        "# Create a scorer function to be used in GridSearchCV\n",
        "scorer = make_scorer(f1_score)\n",
        "\n",
        "# Define the parameter grid for each kernel\n",
        "linear_params = {'C': [0.1, 1, 10]}\n",
        "poly_params = {'C': [0.1, 1, 10], 'degree': [2, 3]}\n",
        "rbf_params = {'C': [0.1, 1, 10], 'gamma': [0.1, 1, 10]}\n",
        "\n",
        "# Grid search for each kernel\n",
        "linear_model = GridSearchCV(SVC(kernel='linear', random_state=42), linear_params, scoring=scorer)\n",
        "poly_model = GridSearchCV(SVC(kernel='poly', random_state=42), poly_params, scoring=scorer)\n",
        "rbf_model = GridSearchCV(SVC(kernel='rbf', random_state=42), rbf_params, scoring=scorer)\n",
        "\n",
        "# Train and validate the models on each fold\n",
        "best_linear_model = linear_model.fit(X_train_f1, y_train_f1).best_estimator_\n",
        "best_poly_model = poly_model.fit(X_train_f1, y_train_f1).best_estimator_\n",
        "best_rbf_model = rbf_model.fit(X_train_f1, y_train_f1).best_estimator_\n",
        "\n",
        "\n",
        "\n",
        "from sklearn.metrics import accuracy_score, precision_score, recall_score, f1_score, mean_squared_error\n",
        "import math\n",
        "\n",
        "# Make predictions on the test set\n",
        "y_pred_linear = best_linear_model.predict(X_test)\n",
        "y_pred_poly = best_poly_model.predict(X_test)\n",
        "y_pred_rbf = best_rbf_model.predict(X_test)\n",
        "\n",
        "# Calculate the evaluation metrics for each model\n",
        "accuracy_linear = accuracy_score(y_test, y_pred_linear)\n",
        "accuracy_poly = accuracy_score(y_test, y_pred_poly)\n",
        "accuracy_rbf = accuracy_score(y_test, y_pred_rbf)\n",
        "\n",
        "precision_linear = precision_score(y_test, y_pred_linear)\n",
        "precision_poly = precision_score(y_test, y_pred_poly)\n",
        "precision_rbf = precision_score(y_test, y_pred_rbf)\n",
        "\n",
        "recall_linear = recall_score(y_test, y_pred_linear)\n",
        "recall_poly = recall_score(y_test, y_pred_poly)\n",
        "recall_rbf = recall_score(y_test, y_pred_rbf)\n",
        "\n",
        "f1_linear = f1_score(y_test, y_pred_linear)\n",
        "f1_poly = f1_score(y_test, y_pred_poly)\n",
        "f1_rbf = f1_score(y_test, y_pred_rbf)\n",
        "\n",
        "rmse_linear = math.sqrt(mean_squared_error(y_test, y_pred_linear))\n",
        "rmse_poly = math.sqrt(mean_squared_error(y_test, y_pred_poly))\n",
        "rmse_rbf = math.sqrt(mean_squared_error(y_test, y_pred_rbf))\n",
        "\n",
        "# Create a table to present the results\n",
        "results = {'Model Name (Kernel)': ['Linear', 'Polynomial', 'RBF'],\n",
        "           'Accuracy': [accuracy_linear, accuracy_poly, accuracy_rbf],\n",
        "           'Precision': [precision_linear, precision_poly, precision_rbf],\n",
        "           'Recall': [recall_linear, recall_poly, recall_rbf],\n",
        "           'F1-score\n"
      ],
      "metadata": {
        "id": "7-wRvWY7mvJ4",
        "colab": {
          "base_uri": "https://localhost:8080/",
          "height": 133
        },
        "outputId": "fae6d6d7-049d-4c96-d71a-2bb7c7999052"
      },
      "execution_count": null,
      "outputs": [
        {
          "output_type": "error",
          "ename": "SyntaxError",
          "evalue": "ignored",
          "traceback": [
            "\u001b[0;36m  File \u001b[0;32m\"<ipython-input-20-c8bd8cc73fb4>\"\u001b[0;36m, line \u001b[0;32m58\u001b[0m\n\u001b[0;31m    'F1-score\u001b[0m\n\u001b[0m             ^\u001b[0m\n\u001b[0;31mSyntaxError\u001b[0m\u001b[0;31m:\u001b[0m EOL while scanning string literal\n"
          ]
        }
      ]
    },
    {
      "cell_type": "markdown",
      "source": [
        "# Question 8 (40 points) \n",
        "\n",
        "From question 7, which one is the best model in the following contexts:\n",
        "\n",
        "a) Metrics from table from question 7, and why?\n",
        "\n",
        "b) Based on the learning curves ploted in the previous questions, and why?"
      ],
      "metadata": {
        "id": "d0uKcXIWm2gZ"
      }
    },
    {
      "cell_type": "markdown",
      "source": [
        "Textual answer to question 8a goes here."
      ],
      "metadata": {
        "id": "fUv67lIDnQVt"
      }
    },
    {
      "cell_type": "markdown",
      "source": [
        "Textual answer to question 8b goes here."
      ],
      "metadata": {
        "id": "vekeBSBBnS8d"
      }
    },
    {
      "cell_type": "markdown",
      "source": [
        "# Question 9 (50 points)\n",
        "\n",
        "Wrie the simplest and most efficient Sklearn pipeline to do extactly what we did in questions 2 to 6. Make sure that you get all the same intermediate outputs and output the same table from quetsion 7 directly from this pipeline."
      ],
      "metadata": {
        "id": "5FAvUA_LptZA"
      }
    },
    {
      "cell_type": "code",
      "source": [
        "##### Code block for Question 9"
      ],
      "metadata": {
        "id": "OVEa6yRHpsVp"
      },
      "execution_count": null,
      "outputs": []
    },
    {
      "cell_type": "markdown",
      "source": [
        "# Graduate Student Question: (50 points)\n",
        "\n",
        "Use the following function and provide visualizations for the best models for each kernel type from above (looking for three plots to receive full credit). Note: The function might need some small adjustments :)\n"
      ],
      "metadata": {
        "id": "ziqaH6VEuBJK"
      }
    },
    {
      "cell_type": "code",
      "source": [],
      "metadata": {
        "id": "iP7WWFw6Esqu"
      },
      "execution_count": null,
      "outputs": []
    },
    {
      "cell_type": "code",
      "source": [
        "##### Code block for Graduate Student Question - Figure 1"
      ],
      "metadata": {
        "id": "a17SE-ZcuALz"
      },
      "execution_count": null,
      "outputs": []
    },
    {
      "cell_type": "code",
      "source": [
        "##### Code block for Graduate Student Question - Figure 2"
      ],
      "metadata": {
        "id": "1qjVDoYuKLCc"
      },
      "execution_count": null,
      "outputs": []
    },
    {
      "cell_type": "code",
      "source": [
        "##### Code block for Graduate Student Question - Figure 3"
      ],
      "metadata": {
        "id": "iXfXoPIpKL_Q"
      },
      "execution_count": null,
      "outputs": []
    }
  ]
}